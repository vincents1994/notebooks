{
 "cells": [
  {
   "cell_type": "markdown",
   "id": "9f787796-aa7b-494e-a9e7-85f22f4d439c",
   "metadata": {
    "tags": []
   },
   "source": [
    "# **Building an AUD OIS Yield Curve**\n",
    "By Vincent Sin | Version 1.0, *2024-07*\n",
    "\n",
    "\n",
    "---"
   ]
  },
  {
   "cell_type": "markdown",
   "id": "8379cfc5-c6bc-40f4-8af0-a81e2cba509a",
   "metadata": {},
   "source": [
    "*The presentation here is just for demonstrating basics concepts for interest rate curve stripping. The model below is under simplied assumption compared to the actual models implemented in the industry.* <span style='color: transparent; font-size:1%'>By Vincent Sin </span>"
   ]
  },
  {
   "cell_type": "markdown",
   "id": "eafc719d-6a20-4e38-934d-a43f0fc2c386",
   "metadata": {},
   "source": [
    "## **1. Assumptions**"
   ]
  },
  {
   "cell_type": "markdown",
   "id": "c051e182-f10b-4234-84da-0fb2c660d003",
   "metadata": {},
   "source": [
    "The interest rate index in concern is AUD OIS: **Australian Overnight Index Average (AONIA)**.\n",
    "\n",
    "For a easy demonstration, we have made some simple assumptions:\n",
    "- We assume the main liquidity for AUD OIS IRS is with AUD collateral. Moreover, we assume this AUD collateral is remunerated by AUD OIS rate.\n",
    "  - That is to say the floating rate here is same as the discount rate for AUD OIS IRS.\n",
    "- The zero coupon rate (yield) is daily compounded, instead of continuously compounded\n",
    "- Day count as ACT/365. We don't handle in details for years with 366 days for now.\n",
    "- 0 day start lag and 0 day pay lag\n",
    "  - The actual convention should be 1 day start lag and 2 days pay lag\n",
    "- No holidays, not even Saturday and Sunday\n",
    "- This code only works for AUD OIS, where the payment frequency of the IRS is 1Y.\n",
    "- The SwapPV method can only price swap with standard tenor\n",
    "\n",
    "\n",
    "For an actual generic model, it should be able to handle the different conventions and different nature of interest rate index."
   ]
  },
  {
   "cell_type": "markdown",
   "id": "f9d4f6b0-b411-4bf1-8c29-eef4b96bfd99",
   "metadata": {},
   "source": [
    "## **2. Source Data**"
   ]
  },
  {
   "cell_type": "markdown",
   "id": "b19a36c4-2894-4fb3-9cbb-85f52d727f7e",
   "metadata": {},
   "source": [
    "We use only Deposit Rate and Swap Rate for the stripping, as we assume main liquidity for AUD OIS IRS is with AUD collateral.\n",
    "\n",
    "For cases like a TWD Taibor index, as the main liquidity is under USD collateral, we will need to consider the FX component in stripping. Here in our AUD example this is not a concern.\n",
    "\n",
    "As of 2024-06-28, from Reuter source **AUDOIS=ICAP**, we have:\n",
    "\n",
    "| Type    | Tenor | Mid     |\n",
    "|---------|-------|---------|\n",
    "| Deposit | ON    | 0.0433  |\n",
    "| Swap    | 1M    | 0.04332 |\n",
    "| Swap    | 2M    | 0.0438  |\n",
    "| Swap    | 3M    | 0.04406 |\n",
    "| Swap    | 4M    | 0.04429 |\n",
    "| Swap    | 5M    | 0.04453 |\n",
    "| Swap    | 6M    | 0.04469 |\n",
    "| Swap    | 9M    | 0.04502 |\n",
    "| Swap    | 1Y    | 0.045   |\n",
    "| Swap    | 18M   | 0.04393 |\n",
    "| Swap    | 2Y    | 0.04321 |\n",
    "| Swap    | 3Y    | 0.04206 |\n",
    "| Swap    | 4Y    | 0.04146 |\n",
    "| Swap    | 5Y    | 0.04136 |\n",
    "| Swap    | 6Y    | 0.04159 |\n",
    "| Swap    | 7Y    | 0.04191 |\n",
    "| Swap    | 8Y    | 0.0423  |\n",
    "| Swap    | 9Y    | 0.04268 |\n",
    "| Swap    | 10Y   | 0.04301 |\n",
    "| Swap    | 12Y   | 0.04364 |\n",
    "| Swap    | 15Y   | 0.04414 |\n",
    "| Swap    | 20Y   | 0.04394 |\n",
    "| Swap    | 25Y   | 0.04288 |\n",
    "| Swap    | 30Y   | 0.04161 |"
   ]
  },
  {
   "cell_type": "markdown",
   "id": "71215113-271c-4e1a-84f7-37065b12c264",
   "metadata": {},
   "source": [
    "## **3. Yield Curve Model**"
   ]
  },
  {
   "cell_type": "markdown",
   "id": "7392e6fe-a932-408c-981c-13f88b7b9a27",
   "metadata": {},
   "source": [
    "## **3.1. Formulas**\n",
    "\n",
    "In general, we can find the zero rate once we have the discounter factor and vice versa:\n",
    "$$ r_{zero}(T_n) = DF(T_n) ^{-\\frac{1}{\\theta_{T_n}}}-1 $$\n",
    "\n",
    "$$ DF(T_n) =  (1 + r_{zero}(T_n))^{-\\theta_{T_n}} $$\n",
    "\n",
    "\n",
    "With Desposit Rate quote, we can find the zero rate per below:\n",
    "$$ DF(T_n) = \\left(1+DepositRate*\\theta_{T_n}\\right) ^ {-1} $$\n",
    "\n",
    "$$ r_{zero}(T_n) = \\left(1+DepositRate*\\theta_{T_n}\\right) ^{\\frac{1}{\\theta_{T_n}}}-1 $$\n",
    "\n",
    "\n",
    "For Swap Rate quote, the discount factor will be dependent on previous discount factor. That means we need to find the 1Y discount factor first before we can calculate the 2Y discounter factor. This is what we call **Bootstrapping** interest rate curve stripping.\n",
    "\n",
    "Please remember that we assume the floating rate here is same as the discount rate for AUD OIS IRS.\n",
    "\n",
    "Since the Swap quote is at par, the PV of fixed leg = PV of floating leg:\n",
    "\n",
    "$$ N * \\left(\\sum_{i=1}^n \\theta_{1Y} * F_{T_{i-1}}^{AUD.OIS,1Y} * DF_{AUD.OIS}^{AUD}(T_i) \\right) = N * \\left(\\sum_{i=1}^n \\theta_{1Y} * SwapRate * DF_{AUD.OIS}^{AUD}(T_i) \\right) $$\n",
    "where N is notional and F is forward rate.\n",
    "\n",
    "Since here the discount rate is also AUD.OIS, we can simplify the formula by:\n",
    "\n",
    "$$ F_{T_{i-1}}^{AUD.OIS,1Y} = \\dfrac{1}{\\theta_{1Y}}\\left(\\dfrac{DF_{AUD.OIS}^{AUD}(T_{i-1})}{DF_{AUD.OIS}^{AUD}(T_i)}-1\\right) $$\n",
    "\n",
    "Substitute this and rearrange the formula, we have:\n",
    "\n",
    "$$DF_{AUD.OIS}^{AUD}(T_n) = \\dfrac{1 - \\sum_{i=1}^{n-1}\\theta_{1Y} * SwapRate * DF_{AUD.OIS}^{AUD}(T_i)}{1 + \\theta_{1Y} * SwapRate} $$\n",
    "\n",
    "which shows the discount factor will depend on the previous ones.\n",
    "\n",
    "We can express the formula in zero rate:\n",
    "\n",
    "$$ r_{zero}(T_n) = \\left(\\dfrac{1+\\theta_{1Y}*SwapRate}{1-\\sum_{i=1}^{n-1}\\theta_{1Y}*SwapRate*DF(T_i)}\\right) ^{\\frac{1}{\\theta_{T_n}}}-1 $$\n",
    "\n",
    "$$ r_{zero}(T_n) = \\displaystyle\\left(\\dfrac{1+\\theta_{1Y} * SwapRate}{1-\\sum_{i=1}^{n-1}\\theta_{1Y} * SwapRate * [1 + r_{zero}(T_i)]^{-\\theta_{T_i}}}\\right) ^{\\frac{1}{\\theta_{T_n}}}-1 $$"
   ]
  },
  {
   "cell_type": "markdown",
   "id": "b9d48ba1-a519-4257-a331-d395b257cb3e",
   "metadata": {},
   "source": [
    "## **3.2. Coding logics**\n",
    "\n",
    "For deposit rate and 1Y swap rate, the quote itself could already give us the zero rate by the formula above.\n",
    "\n",
    "For other swap rate, we need the previous discounter factors. For example, 2Y needs 1Y, 3Y needs 1Y & 2Y... \n",
    "\n",
    "For 18M to 10Y swap rate, all the previous discounter factors could be found by simple bootstrapping. Therefore we just need to follow the formulas.\n",
    "\n",
    "For 12Y to 30Y, we will need to apply cubic spline interpolation to find the intermediate points. For instance, when we strip the 12Y point, the 11Y point is not yet known but it is required in formula (as we have yearly coupon in the IRS).\n",
    "\n",
    "Our approach, we first have an initial guess of the 12Y zero rate, and we build a cubic spline (`scipy.interpolate.CubicSpline`)on the existing zero rate (i.e. from ON to 10Y). By this cubic spline, we can find the 11Y zero rate. Then, we set a cost function as the MtM of the 12Y IRS. Since the quote is at par, we should expect a MtM of 0. We use `scipy.optimize.fmin` to find a 12Y zero rate that could give a 0 MtM.\n",
    "\n",
    "This approach could ensure to achieve:\n",
    "- A smooth zero coupon rate (yield) curve by cubic spline\n",
    "- All the input quotes can be priced with 0 MtM with our yield curve\n",
    "\n",
    "\n"
   ]
  },
  {
   "cell_type": "markdown",
   "id": "6d1d9706-82a9-4b8d-ad11-421bffc76dbd",
   "metadata": {},
   "source": [
    "## **3.3. Coding for Yield Curve Model**"
   ]
  },
  {
   "cell_type": "code",
   "execution_count": 5,
   "id": "1181a82f-fd93-4ebd-8527-489dfd8cddcb",
   "metadata": {},
   "outputs": [],
   "source": [
    "import numpy as np\n",
    "import pandas as pd\n",
    "import matplotlib.pyplot as plt\n",
    "from datetime import *\n",
    "from dateutil.relativedelta import *\n",
    "from scipy import interpolate, optimize"
   ]
  },
  {
   "cell_type": "code",
   "execution_count": 6,
   "id": "84213094-7c3b-44d3-a47e-c1dfb0918f38",
   "metadata": {},
   "outputs": [],
   "source": [
    "class Yield_Curve:\n",
    "    def __init__(self, df, date):\n",
    "        self.sourcedf = df\n",
    "        self.asofdate = date\n",
    "        self.stripdf = pd.DataFrame({'Date':[date],'ZeroCouponRate':[0.0],'DateCountFactor':[0.0]})\n",
    "        self.fulldf = pd.DataFrame({'Date':[date],'ZeroCouponRate':[0.0],'DateCountFactor':[0.0]})\n",
    "        self.FindEndDate()\n",
    "        self.CalDateCountFactor()\n",
    "        \n",
    "    def FindEndDate(self):\n",
    "        for i in range(len(self.sourcedf)):\n",
    "            if self.sourcedf.loc[i, 'Tenor'][-1] == 'M':\n",
    "                num = int(self.sourcedf.loc[i, 'Tenor'][:-1])\n",
    "                self.sourcedf.loc[i, 'EndDate'] = self.asofdate + relativedelta(months=num)\n",
    "            elif self.sourcedf.loc[i, 'Tenor'][-1] == 'Y':\n",
    "                num = int(self.sourcedf.loc[i, 'Tenor'][:-1])\n",
    "                self.sourcedf.loc[i, 'EndDate'] = self.asofdate + relativedelta(years=num)\n",
    "            elif self.sourcedf.loc[i, 'Tenor'] == 'ON':\n",
    "                self.sourcedf.loc[i, 'EndDate'] = self.asofdate + relativedelta(days=1)\n",
    "\n",
    "    def CalDateCountFactor(self):\n",
    "        for i in range(len(self.sourcedf)):\n",
    "            self.sourcedf.loc[i, 'DateCount'] = (self.sourcedf.loc[i, 'EndDate'] - self.asofdate).days\n",
    "            self.sourcedf.loc[i, 'DateCountFactor'] = self.sourcedf.loc[i, 'DateCount'] / 365.0\n",
    "    \n",
    "    def CalZeroCouponRate(self):\n",
    "        for i in range(len(self.sourcedf)): \n",
    "            Date = self.sourcedf.loc[i, 'EndDate']\n",
    "            dcf = self.sourcedf.loc[i, 'DateCountFactor']\n",
    "            quote = self.sourcedf.loc[i,'Mid']\n",
    "            \n",
    "            if self.sourcedf['Type'].iloc[i] == 'Deposit':\n",
    "                ZC = (1 + quote * dcf) ** (1/dcf) - 1\n",
    "                self.sourcedf.loc[i,'ZeroCouponRate'] = ZC\n",
    "                newrow = pd.DataFrame({'Date':[Date],'ZeroCouponRate':[ZC],'DateCountFactor':[dcf]})\n",
    "                self.stripdf = pd.concat([self.stripdf,newrow], ignore_index=True)\n",
    "                    \n",
    "            else:        \n",
    "                if self.sourcedf['Type'].iloc[i] == 'Swap':\n",
    "                    if self.sourcedf.loc[i, 'DateCount'] <= 365:\n",
    "                        ZC = (1 + quote * dcf) ** (1/dcf) - 1\n",
    "                        self.sourcedf.loc[i,'ZeroCouponRate'] = ZC\n",
    "                        newrow = pd.DataFrame({'Date':[Date],'ZeroCouponRate':[ZC],'DateCountFactor':[dcf]})\n",
    "                        self.stripdf = pd.concat([self.stripdf,newrow], ignore_index=True)\n",
    "\n",
    "                    else:\n",
    "                        CouponDates = []\n",
    "                        CouponDCFs = []\n",
    "                        tenor = self.sourcedf.loc[i, 'Tenor']\n",
    "                        num = int(tenor[:-1])\n",
    "\n",
    "                        if tenor == '18M':\n",
    "                            CouponDates.append(self.asofdate + relativedelta(months=6))\n",
    "                            dc = (CouponDates[-1] - self.asofdate).days\n",
    "                            CouponDCFs.append(dc / 365.0)\n",
    "\n",
    "                            CouponDates.append(self.asofdate + relativedelta(months=18))\n",
    "                            dc = (CouponDates[-1] - self.asofdate).days\n",
    "                            CouponDCFs.append(dc / 365.0)\n",
    "                            \n",
    "                            CpDCF6m = 0.5\n",
    "                            CpDCF1y = 1.0\n",
    "                            intraZC = self.sourcedf.loc[self.sourcedf['Tenor']=='6M','ZeroCouponRate'].values[0]\n",
    "                            ZC = ((1.0 + quote * CpDCF1y)/(1 - CpDCF6m * quote *(1 + intraZC) ** (- CouponDCFs[0]))) ** (1/dcf) - 1\n",
    "                            self.sourcedf.loc[i,'ZeroCouponRate'] = ZC\n",
    "                            newrow = pd.DataFrame({'Date':[Date],'ZeroCouponRate':[ZC],'DateCountFactor':[dcf]})\n",
    "                            self.stripdf = pd.concat([self.stripdf,newrow], ignore_index=True)\n",
    "                            \n",
    "                        else:                         \n",
    "                            for j in range(num):\n",
    "                                CouponDates.append(self.asofdate + relativedelta(years=j+1))\n",
    "                                dc = (CouponDates[-1] - self.asofdate).days\n",
    "                                CouponDCFs.append(dc / 365.0)\n",
    "                            \n",
    "                            # check if interpolation is needed for intermediate points\n",
    "                            NeedInterpolate = False\n",
    "                            for j in range(len(CouponDCFs)-1):                           \n",
    "                                if not self.stripdf['Date'].isin([CouponDates[j]]).any():\n",
    "                                    NeedInterpolate = True\n",
    "                                    \n",
    "                            if NeedInterpolate == True:\n",
    "                                # Use the last zero coupon rate as guess\n",
    "                                initial_guess = self.stripdf['ZeroCouponRate'].iloc[-1]\n",
    "                                # Find a ZC that gives 0 mtm of the swap\n",
    "                                ZC = optimize.fmin(lambda x: self.CostFunction(x, tenor, quote, CouponDates, CouponDCFs, dcf),\n",
    "                                                   initial_guess, xtol=1e-10, ftol=1e-10)\n",
    "                                ZC = float(ZC)\n",
    "                                \n",
    "                                # Build the cubic spline to find out all intermediate ZC\n",
    "                                x = pd.concat([pd.Series(self.stripdf['DateCountFactor'][:]), pd.Series([dcf])], ignore_index=True)\n",
    "                                y = pd.concat([pd.Series(self.stripdf['ZeroCouponRate'][:]), pd.Series([ZC])], ignore_index=True)\n",
    "                                ZeroCurve = interpolate.CubicSpline(x,y,bc_type=((2,0.0),(2,0.0)))\n",
    "                                \n",
    "                                # For those interpolated intermediate ZC, we store them in stripdf\n",
    "                                for j in range(len(CouponDCFs)-1):\n",
    "                                    CouponDate = CouponDates[j]\n",
    "                                    CouponDCF = CouponDCFs[j]\n",
    "                                    if not self.stripdf['Date'].isin([CouponDate]).any():\n",
    "                                        intraZC = ZeroCurve(CouponDCF)\n",
    "                                        newrow = pd.DataFrame({'Date':[CouponDate],'ZeroCouponRate':[intraZC],'DateCountFactor':[CouponDCF]})\n",
    "                                        self.stripdf = pd.concat([self.stripdf,newrow], ignore_index=True)\n",
    "                                \n",
    "                            else:\n",
    "                                CpSum = 0.0\n",
    "                                for j in range(len(CouponDCFs)-1):\n",
    "                                    CouponDate = CouponDates[j]\n",
    "                                    CouponDCF = CouponDCFs[j]\n",
    "\n",
    "                                    intraZC = self.stripdf.loc[self.stripdf['Date']==CouponDate,'ZeroCouponRate'].values[0]\n",
    "\n",
    "                                    CpDCF = 1.0\n",
    "                                    CpSum += CpDCF * quote * (1 + intraZC) ** (- CouponDCF)\n",
    "\n",
    "                                CpDCF = 1.0\n",
    "                                ZC = ((1.0 + quote * CpDCF)/(1 - CpSum)) ** (1/dcf) - 1\n",
    "                            \n",
    "                            self.sourcedf.loc[i,'ZeroCouponRate'] = ZC\n",
    "                            newrow = pd.DataFrame({'Date':[Date],'ZeroCouponRate':[ZC],'DateCountFactor':[dcf]})\n",
    "                            self.stripdf = pd.concat([self.stripdf,newrow], ignore_index=True)\n",
    "    \n",
    "    def CostFunction(self, lastZCguess, tenor, quote, CouponDates, CouponDCFs, dcf):\n",
    "        floatPV = 0\n",
    "        fixPV = 0\n",
    "        notional = 1000000\n",
    "        num = int(tenor[:-1])\n",
    "        \n",
    "        tempdf = self.stripdf.copy()\n",
    "        x = pd.concat([pd.Series(tempdf['DateCountFactor'][:]), pd.Series([dcf])], ignore_index=True)\n",
    "        y = pd.concat([pd.Series(tempdf['ZeroCouponRate'][:]), pd.Series([lastZCguess])], ignore_index=True)\n",
    "        ZeroCurve = interpolate.CubicSpline(x,y,bc_type=((2,0.0),(2,0.0)))\n",
    "        \n",
    "        for j in range(len(CouponDCFs)):\n",
    "            CouponDate = CouponDates[j]\n",
    "            CouponDCF = CouponDCFs[j]                              \n",
    "\n",
    "            if not tempdf['Date'].isin([CouponDate]).any():\n",
    "                intraZC = ZeroCurve(CouponDCF)\n",
    "                newrow = pd.DataFrame({'Date':[CouponDate],'ZeroCouponRate':[intraZC],'DateCountFactor':[CouponDCF]})\n",
    "                tempdf = pd.concat([tempdf,newrow], ignore_index=True)\n",
    "        \n",
    "        self.CalDiscountFactor(tempdf)\n",
    "                \n",
    "        if tenor[-1] == 'Y':\n",
    "            DF1 = 1.0\n",
    "            DF2 = 1.0\n",
    "            for i in range(num):\n",
    "                CouponDate = CouponDates[i]\n",
    "                DF1 = DF2\n",
    "                DF2 = float(tempdf.loc[tempdf['Date']==CouponDate,'DiscountFactor'])\n",
    "                CpDCF = 1.0\n",
    "                fwd = (DF1 / DF2 - 1)/CpDCF\n",
    "                floatPV += notional * fwd * CpDCF * DF2\n",
    "                fixPV += notional * quote * CpDCF * DF2\n",
    "            \n",
    "            return abs(floatPV - fixPV)\n",
    "        else:\n",
    "            # We know in this AUD OIS case, only those swaps greater than 10Y need interpolation\n",
    "            return 0\n",
    "    \n",
    "    def CalDiscountFactor(self, df):\n",
    "        for i in range(len(df)):\n",
    "            ZC = df.loc[i,'ZeroCouponRate']\n",
    "            dcf = df.loc[i,'DateCountFactor']\n",
    "            df.loc[i,'DiscountFactor'] = (1 + ZC) ** (-dcf)\n",
    "    \n",
    "    def BootstrapCurve(self):\n",
    "        self.CalZeroCouponRate()\n",
    "        self.CalDiscountFactor(self.stripdf)\n",
    "    \n",
    "    def PlotZeroCurve(self):\n",
    "        x = self.stripdf['Date'][1:]\n",
    "        y = self.stripdf['ZeroCouponRate'][1:]\n",
    "        ZeroCurve = interpolate.CubicSpline(x,y,bc_type=((2,0.0),(2,0.0)))\n",
    "        x2 = date_range = pd.date_range(start=x.iloc[0], end=x.iloc[-1], freq='D')\n",
    "        y2 = ZeroCurve(x2)\n",
    "        plt.plot(x,y,'o',x2,y2)\n",
    "    \n",
    "    def PlotSwapCurve(self):\n",
    "        x = self.sourcedf['EndDate'][1:]\n",
    "        y = self.sourcedf['Mid'][1:]\n",
    "        plt.plot(x,y,'o',x,y)\n",
    "        \n",
    "    def SwapPV(self, tenor, quote, notional = 1000000):\n",
    "        floatPV = 0\n",
    "        fixPV = 0\n",
    "        num = int(tenor[:-1])\n",
    "        if tenor == '18M':\n",
    "            CouponDate = self.asofdate + relativedelta(months=6)\n",
    "            dc = (CouponDate - self.asofdate).days\n",
    "            CouponDCF = dc / 365.0\n",
    "            DF = float(self.stripdf.loc[self.stripdf['Date']==CouponDate,'DiscountFactor'])\n",
    "            CpDCF = 0.5\n",
    "            fwd = (1 / DF - 1)/CpDCF\n",
    "            floatPV += notional * fwd * CpDCF * DF\n",
    "            fixPV += notional * quote * CpDCF * DF\n",
    "            \n",
    "            CouponDate = self.asofdate + relativedelta(months=18)\n",
    "            dc = (CouponDate - self.asofdate).days\n",
    "            CouponDCF = dc / 365.0\n",
    "            DF2 = float(self.stripdf.loc[self.stripdf['Date']==CouponDate,'DiscountFactor'])\n",
    "            CpDCF = 1.0\n",
    "            fwd = (DF / DF2 - 1)/CpDCF\n",
    "            floatPV += notional * fwd * CpDCF * DF2\n",
    "            fixPV += notional * quote * CpDCF * DF2\n",
    "            \n",
    "            return floatPV - fixPV\n",
    "        \n",
    "        elif tenor[-1] == 'M':\n",
    "            CouponDate = self.asofdate + relativedelta(months=num)\n",
    "            DF = float(self.stripdf.loc[self.stripdf['Date']==CouponDate,'DiscountFactor'])\n",
    "            dc = (CouponDate - self.asofdate).days\n",
    "            CouponDCF = dc / 365.0\n",
    "            fwd = (1 / DF - 1)/CouponDCF\n",
    "            floatPV += notional * fwd * CouponDCF * DF\n",
    "            fixPV += notional * quote * CouponDCF * DF\n",
    "            \n",
    "            return floatPV - fixPV\n",
    "            \n",
    "        elif tenor[-1] == 'Y':\n",
    "            DF1 = 1.0\n",
    "            DF2 = 1.0\n",
    "            for i in range(num):\n",
    "                CouponDate = self.asofdate + relativedelta(years=i+1)\n",
    "                DF1 = DF2\n",
    "                DF2 = float(self.stripdf.loc[self.stripdf['Date']==CouponDate,'DiscountFactor'])\n",
    "                CpDCF = 1.0\n",
    "                fwd = (DF1 / DF2 - 1)/CpDCF\n",
    "                floatPV += notional * fwd * CpDCF * DF2\n",
    "                fixPV += notional * quote * CpDCF * DF2\n",
    "            \n",
    "            return floatPV - fixPV"
   ]
  },
  {
   "cell_type": "markdown",
   "id": "be202c46-a0c5-4579-85aa-4855afbb2aaf",
   "metadata": {},
   "source": [
    "Input our source data."
   ]
  },
  {
   "cell_type": "code",
   "execution_count": 7,
   "id": "36201146-40ab-43ca-aa3d-f913679e9782",
   "metadata": {
    "tags": []
   },
   "outputs": [],
   "source": [
    "input_data = {'Type':['Deposit','Swap','Swap','Swap','Swap','Swap','Swap','Swap','Swap','Swap','Swap','Swap','Swap','Swap','Swap','Swap','Swap','Swap','Swap','Swap','Swap','Swap','Swap','Swap'],\n",
    "             'Tenor':['ON','1M','2M','3M','4M','5M','6M','9M','1Y','18M','2Y','3Y','4Y','5Y','6Y','7Y','8Y','9Y','10Y','12Y','15Y','20Y','25Y','30Y'],\n",
    "             'Mid':[0.0433,0.04332,0.0438,0.04406,0.04429,0.04453,0.04469,0.04502,0.045,0.04393,0.04321,0.04206,0.04146,0.04136,0.04159,0.04191,0.0423,0.04268,0.04301,0.04364,0.04414,0.04394,0.04288,0.04161]}"
   ]
  },
  {
   "cell_type": "code",
   "execution_count": 8,
   "id": "d0b41c1d-24a9-42e1-b3df-10e43b330176",
   "metadata": {
    "tags": []
   },
   "outputs": [],
   "source": [
    "df = pd.DataFrame(input_data)"
   ]
  },
  {
   "cell_type": "markdown",
   "id": "e3b6efdb-a07d-448e-b35d-68a454a1d3a2",
   "metadata": {},
   "source": [
    "Build the model and perform stripping."
   ]
  },
  {
   "cell_type": "code",
   "execution_count": 9,
   "id": "d2043b21-02e3-4716-9f4d-19c752c5b007",
   "metadata": {},
   "outputs": [],
   "source": [
    "Yield = Yield_Curve(df, datetime(2024,6,28))"
   ]
  },
  {
   "cell_type": "code",
   "execution_count": 10,
   "id": "075363e7-35ac-4552-81e0-1ad927c3dc30",
   "metadata": {
    "tags": []
   },
   "outputs": [
    {
     "name": "stdout",
     "output_type": "stream",
     "text": [
      "Optimization terminated successfully.\n",
      "         Current function value: 0.000000\n",
      "         Iterations: 46\n",
      "         Function evaluations: 93\n",
      "Optimization terminated successfully.\n",
      "         Current function value: 0.000000\n",
      "         Iterations: 45\n",
      "         Function evaluations: 90\n",
      "Optimization terminated successfully.\n",
      "         Current function value: 0.000000\n",
      "         Iterations: 46\n",
      "         Function evaluations: 92\n",
      "Optimization terminated successfully.\n",
      "         Current function value: 0.000000\n",
      "         Iterations: 47\n",
      "         Function evaluations: 94\n",
      "Optimization terminated successfully.\n",
      "         Current function value: 0.000000\n",
      "         Iterations: 47\n",
      "         Function evaluations: 94\n"
     ]
    }
   ],
   "source": [
    "Yield.BootstrapCurve()"
   ]
  },
  {
   "cell_type": "markdown",
   "id": "9363678c-6061-4d10-bf5c-8edcfa7bbf99",
   "metadata": {},
   "source": [
    "Show the stripping result."
   ]
  },
  {
   "cell_type": "code",
   "execution_count": 11,
   "id": "7197ef32-3225-4b41-a2ff-a76cf15365b8",
   "metadata": {},
   "outputs": [
    {
     "name": "stdout",
     "output_type": "stream",
     "text": [
      "         Date        ZeroCouponRate  DateCountFactor  DiscountFactor\n",
      "0  2024-06-28                   0.0         0.000000        1.000000\n",
      "1  2024-06-29              0.044248         0.002740        0.999881\n",
      "2  2024-07-28              0.044192         0.082192        0.996452\n",
      "3  2024-08-28              0.044607         0.167123        0.992733\n",
      "4  2024-09-28              0.044791         0.252055        0.989016\n",
      "5  2024-10-28              0.044946         0.334247        0.985412\n",
      "6  2024-11-28              0.045107         0.419178        0.981676\n",
      "7  2024-12-28              0.045188         0.501370        0.978085\n",
      "8  2025-03-28              0.045274         0.747945        0.967424\n",
      "9  2025-06-28                 0.045         1.000000        0.956938\n",
      "10 2025-12-28              0.044043         1.501370        0.937339\n",
      "11 2026-06-28              0.043171         2.000000        0.918943\n",
      "12 2027-06-28              0.041986         3.000000        0.883923\n",
      "13 2028-06-28              0.041338         4.002740        0.850324\n",
      "14 2029-06-28              0.041254         5.002740        0.816898\n",
      "15 2030-06-28              0.041527         6.002740        0.783302\n",
      "16 2031-06-28              0.041898         7.002740        0.750194\n",
      "17 2032-06-28              0.042338         8.005479        0.717519\n",
      "18 2033-06-28              0.042786         9.005479        0.685715\n",
      "19 2034-06-28              0.043178        10.005479        0.655109\n",
      "20 2035-06-28   0.04355588754084429        11.005479        0.625498\n",
      "21 2036-06-28              0.043934        12.008219        0.596719\n",
      "22 2037-06-28   0.04421077202331406        13.008219        0.569639\n",
      "23 2038-06-28   0.04439646311616322        14.008219        0.544164\n",
      "24 2039-06-28              0.044537        15.008219        0.519983\n",
      "25 2040-06-28   0.04458541589543853        16.010959        0.497381\n",
      "26 2041-06-28  0.044545265727477155        17.010959        0.476463\n",
      "27 2042-06-28   0.04443859375234776        18.010959        0.456984\n",
      "28 2043-06-28   0.04428755367407987        19.010959        0.438745\n",
      "29 2044-06-28              0.044114        20.013699        0.421489\n",
      "30 2045-06-28   0.04386983709910051        21.013699        0.405668\n",
      "31 2046-06-28   0.04355495947993468        22.013699        0.391209\n",
      "32 2047-06-28  0.043186894435720616        23.013699        0.377937\n",
      "33 2048-06-28   0.04278221685871024        24.016438        0.365640\n",
      "34 2049-06-28              0.042361        25.016438        0.354202\n",
      "35 2050-06-28  0.041937309055395514        26.016438        0.343420\n",
      "36 2051-06-28    0.0415144627191028        27.016438        0.333232\n",
      "37 2052-06-28   0.04109101223223238        28.019178        0.323580\n",
      "38 2053-06-28  0.040669087203154715        29.019178        0.314486\n",
      "39 2054-06-28              0.040247        30.019178        0.305895\n"
     ]
    }
   ],
   "source": [
    "print(Yield.stripdf)"
   ]
  },
  {
   "cell_type": "markdown",
   "id": "ac02e364-77bd-47a4-9636-997ebccca238",
   "metadata": {},
   "source": [
    "Test if the curve can price all the inputs, i.e. give 0 MtM"
   ]
  },
  {
   "cell_type": "code",
   "execution_count": 12,
   "id": "2c63d6db-fe98-49c9-a72d-8ac20d4f6aeb",
   "metadata": {},
   "outputs": [
    {
     "name": "stdout",
     "output_type": "stream",
     "text": [
      "1M 0.04332 -0.0\n",
      "2M 0.0438 -0.0\n",
      "3M 0.04406 0.0\n",
      "4M 0.04429 0.0\n",
      "5M 0.04453 0.0\n",
      "6M 0.04469 0.0\n",
      "9M 0.04502 -0.0\n",
      "1Y 0.045 -0.0\n",
      "18M 0.04393 0.0\n",
      "2Y 0.04321 -0.0\n",
      "3Y 0.04206 0.0\n",
      "4Y 0.04146 -0.0\n",
      "5Y 0.04136 0.0\n",
      "6Y 0.04159 0.0\n",
      "7Y 0.04191 0.0\n",
      "8Y 0.0423 -0.0\n",
      "9Y 0.04268 0.0\n",
      "10Y 0.04301 0.0\n",
      "12Y 0.04364 0.0\n",
      "15Y 0.04414 -0.0\n",
      "20Y 0.04394 0.0\n",
      "25Y 0.04288 -0.0\n",
      "30Y 0.04161 0.0\n"
     ]
    }
   ],
   "source": [
    "# test if the curve can price the inputs\n",
    "for i in range(1,len(df)):\n",
    "    tenor = df.loc[i,'Tenor']\n",
    "    quote = df.loc[i,'Mid']\n",
    "    print(tenor,quote,round(Yield.SwapPV(tenor,quote),8))"
   ]
  },
  {
   "cell_type": "markdown",
   "id": "a7a2b667-f837-42a2-a745-60585ec3abf4",
   "metadata": {},
   "source": [
    "Check if the yield curve is smooth."
   ]
  },
  {
   "cell_type": "code",
   "execution_count": 13,
   "id": "d0fcdd2a-0cb5-4d3d-8d4d-97ac52de1db5",
   "metadata": {},
   "outputs": [
    {
     "data": {
      "image/png": "[encoded data removed]",
      "text/plain": [
       "<Figure size 640x480 with 1 Axes>"
      ]
     },
     "metadata": {},
     "output_type": "display_data"
    }
   ],
   "source": [
    "Yield.PlotZeroCurve()"
   ]
  },
  {
   "cell_type": "markdown",
   "id": "90517577-d98f-45dd-beb1-f02832710d26",
   "metadata": {},
   "source": [
    "Check the stripped yield has similar characteristics as the swap quotes."
   ]
  },
  {
   "cell_type": "code",
   "execution_count": 14,
   "id": "d2ef78e3-5541-44b4-ac11-5b081182d3a4",
   "metadata": {},
   "outputs": [
    {
     "data": {
      "image/png": "[encoded data removed]",
      "text/plain": [
       "<Figure size 640x480 with 1 Axes>"
      ]
     },
     "metadata": {},
     "output_type": "display_data"
    }
   ],
   "source": [
    "Yield.PlotSwapCurve()"
   ]
  },
  {
   "cell_type": "markdown",
   "id": "556597d8-d80e-4359-bbb3-35076c14f5fe",
   "metadata": {},
   "source": [
    "## **4. Conclusion**"
   ]
  },
  {
   "cell_type": "markdown",
   "id": "f2f85157-c0d4-4f67-9ffb-bc625f79d89e",
   "metadata": {},
   "source": [
    "We success to build a smooth yield curve that is able to price all the inputs with 0 MtM.\n",
    "\n",
    "It is known that this model has some limitations due to the simple assumption we made. However, it is just a matter to generalize the code to take different conventions, different coupon schedules and different curve nature (e.g. consider IR future for USD SOFR or EUR ESTR)."
   ]
  },
  {
   "cell_type": "markdown",
   "id": "5b530cd8-07b2-43e6-834c-0f25e7dc918f",
   "metadata": {},
   "source": [
    "## Appendix\n",
    "\n",
    "Formulas for continously compounding:\n",
    "$$ r_{zero}(T_n) = -\\frac{1}{\\theta_{T_n}} ln(DF(T_n)) $$\n",
    "\n",
    "$$ DF(T_n) = exp(- r_{zero}(T_n) * \\theta_{T_n}) $$\n",
    "\n",
    "$$ r_{zero}(T_n) = \\frac{1}{\\theta_{T_n}} ln\\left(\\dfrac{1+\\theta_{1Y}*SwapRate}{1-\\sum_{i=1}^{n-1}\\theta_{1Y}*SwapRate*DF(T_i)}\\right) $$\n",
    "\n",
    "$$ r_{zero}(T_n) = \\frac{1}{\\theta_{T_n}} ln\\left(\\dfrac{1+\\theta_{1Y}*SwapRate}{1-\\sum_{i=1}^{n-1}\\theta_{1Y}*SwapRate*exp(- r_{zero}(T_i) * \\theta_{T_i})}\\right) $$"
   ]
  }
 ],
 "metadata": {
  "kernelspec": {
   "display_name": "Python 3 (ipykernel)",
   "language": "python",
   "name": "python3"
  },
  "language_info": {
   "codemirror_mode": {
    "name": "ipython",
    "version": 3
   },
   "file_extension": ".py",
   "mimetype": "text/x-python",
   "name": "python",
   "nbconvert_exporter": "python",
   "pygments_lexer": "ipython3",
   "version": "3.10.9"
  }
 },
 "nbformat": 4,
 "nbformat_minor": 5
}
